{
 "cells": [
  {
   "cell_type": "code",
   "execution_count": 1,
   "metadata": {},
   "outputs": [],
   "source": [
    "import pandas as pd # all required library import here\n",
    "import numpy as np\n",
    "from sklearn.model_selection import train_test_split\n",
    "from sklearn.preprocessing import StandardScaler\n",
    "from sklearn.neighbors import KNeighborsClassifier\n",
    "from sklearn.metrics import confusion_matrix\n",
    "from sklearn.metrics import f1_score\n",
    "from sklearn.model_selection import cross_val_score\n",
    "from sklearn.metrics import accuracy_score\n",
    "from matplotlib import pyplot as plt"
   ]
  },
  {
   "cell_type": "code",
   "execution_count": 2,
   "metadata": {},
   "outputs": [],
   "source": [
    "dataset=pd.read_excel('Hira_Final_Excel_30_Features.xlsx')# our data set read "
   ]
  },
  {
   "cell_type": "code",
   "execution_count": 3,
   "metadata": {},
   "outputs": [
    {
     "data": {
      "text/html": [
       "<div>\n",
       "<style scoped>\n",
       "    .dataframe tbody tr th:only-of-type {\n",
       "        vertical-align: middle;\n",
       "    }\n",
       "\n",
       "    .dataframe tbody tr th {\n",
       "        vertical-align: top;\n",
       "    }\n",
       "\n",
       "    .dataframe thead th {\n",
       "        text-align: right;\n",
       "    }\n",
       "</style>\n",
       "<table border=\"1\" class=\"dataframe\">\n",
       "  <thead>\n",
       "    <tr style=\"text-align: right;\">\n",
       "      <th></th>\n",
       "      <th>Unnamed: 0</th>\n",
       "      <th>SwHBa</th>\n",
       "      <th>minHBd</th>\n",
       "      <th>MDEN-13</th>\n",
       "      <th>XLogP</th>\n",
       "      <th>MATS2s</th>\n",
       "      <th>GATS2s</th>\n",
       "      <th>GGI6</th>\n",
       "      <th>SpMax1_Bhs</th>\n",
       "      <th>GATS4m</th>\n",
       "      <th>...</th>\n",
       "      <th>minHssNH</th>\n",
       "      <th>SRW9</th>\n",
       "      <th>GATS3e</th>\n",
       "      <th>ASP-1</th>\n",
       "      <th>R_TpiPCTPC</th>\n",
       "      <th>GATS5c</th>\n",
       "      <th>AATS8m</th>\n",
       "      <th>GATS1c</th>\n",
       "      <th>GATS3s</th>\n",
       "      <th>CLASS</th>\n",
       "    </tr>\n",
       "  </thead>\n",
       "  <tbody>\n",
       "    <tr>\n",
       "      <th>0</th>\n",
       "      <td>0</td>\n",
       "      <td>-0.351249</td>\n",
       "      <td>-0.602163</td>\n",
       "      <td>-0.38591</td>\n",
       "      <td>-0.080868</td>\n",
       "      <td>-0.458866</td>\n",
       "      <td>-0.276488</td>\n",
       "      <td>-0.083801</td>\n",
       "      <td>0.281555</td>\n",
       "      <td>0.689056</td>\n",
       "      <td>...</td>\n",
       "      <td>-0.175906</td>\n",
       "      <td>-1.504694</td>\n",
       "      <td>-0.519184</td>\n",
       "      <td>0.277805</td>\n",
       "      <td>-0.347614</td>\n",
       "      <td>-0.600570</td>\n",
       "      <td>-0.072174</td>\n",
       "      <td>-0.368918</td>\n",
       "      <td>-0.386182</td>\n",
       "      <td>0</td>\n",
       "    </tr>\n",
       "    <tr>\n",
       "      <th>1</th>\n",
       "      <td>1</td>\n",
       "      <td>0.267557</td>\n",
       "      <td>-0.664901</td>\n",
       "      <td>-0.38591</td>\n",
       "      <td>-0.278347</td>\n",
       "      <td>-0.145311</td>\n",
       "      <td>-0.158102</td>\n",
       "      <td>-0.239339</td>\n",
       "      <td>-0.329995</td>\n",
       "      <td>0.743703</td>\n",
       "      <td>...</td>\n",
       "      <td>-0.217294</td>\n",
       "      <td>-1.504694</td>\n",
       "      <td>0.056759</td>\n",
       "      <td>0.726497</td>\n",
       "      <td>-0.348569</td>\n",
       "      <td>-0.141784</td>\n",
       "      <td>-0.167602</td>\n",
       "      <td>0.100444</td>\n",
       "      <td>0.161942</td>\n",
       "      <td>0</td>\n",
       "    </tr>\n",
       "    <tr>\n",
       "      <th>2</th>\n",
       "      <td>2</td>\n",
       "      <td>0.797947</td>\n",
       "      <td>-0.156930</td>\n",
       "      <td>-0.38591</td>\n",
       "      <td>0.800734</td>\n",
       "      <td>-0.107372</td>\n",
       "      <td>-0.469982</td>\n",
       "      <td>-0.780609</td>\n",
       "      <td>-0.364963</td>\n",
       "      <td>0.430726</td>\n",
       "      <td>...</td>\n",
       "      <td>0.117806</td>\n",
       "      <td>-1.504694</td>\n",
       "      <td>-0.270485</td>\n",
       "      <td>0.557216</td>\n",
       "      <td>-0.272658</td>\n",
       "      <td>1.581178</td>\n",
       "      <td>-0.353213</td>\n",
       "      <td>0.347286</td>\n",
       "      <td>0.110075</td>\n",
       "      <td>0</td>\n",
       "    </tr>\n",
       "    <tr>\n",
       "      <th>3</th>\n",
       "      <td>3</td>\n",
       "      <td>0.002126</td>\n",
       "      <td>-0.965972</td>\n",
       "      <td>-0.38591</td>\n",
       "      <td>-0.420579</td>\n",
       "      <td>-0.639170</td>\n",
       "      <td>0.622512</td>\n",
       "      <td>0.296402</td>\n",
       "      <td>0.292371</td>\n",
       "      <td>0.435166</td>\n",
       "      <td>...</td>\n",
       "      <td>-0.415906</td>\n",
       "      <td>0.826836</td>\n",
       "      <td>-0.558183</td>\n",
       "      <td>-0.110332</td>\n",
       "      <td>-0.595717</td>\n",
       "      <td>-0.127133</td>\n",
       "      <td>-0.337717</td>\n",
       "      <td>-0.505372</td>\n",
       "      <td>-0.342719</td>\n",
       "      <td>0</td>\n",
       "    </tr>\n",
       "    <tr>\n",
       "      <th>4</th>\n",
       "      <td>4</td>\n",
       "      <td>0.112239</td>\n",
       "      <td>-0.830326</td>\n",
       "      <td>-0.38591</td>\n",
       "      <td>-0.756176</td>\n",
       "      <td>-0.142033</td>\n",
       "      <td>0.295054</td>\n",
       "      <td>-0.320218</td>\n",
       "      <td>0.023826</td>\n",
       "      <td>0.679495</td>\n",
       "      <td>...</td>\n",
       "      <td>-0.326422</td>\n",
       "      <td>-1.504694</td>\n",
       "      <td>-0.653413</td>\n",
       "      <td>0.726497</td>\n",
       "      <td>-0.682845</td>\n",
       "      <td>0.226682</td>\n",
       "      <td>-0.563980</td>\n",
       "      <td>-0.463201</td>\n",
       "      <td>-0.715704</td>\n",
       "      <td>0</td>\n",
       "    </tr>\n",
       "  </tbody>\n",
       "</table>\n",
       "<p>5 rows × 32 columns</p>\n",
       "</div>"
      ],
      "text/plain": [
       "   Unnamed: 0     SwHBa    minHBd  MDEN-13     XLogP    MATS2s    GATS2s  \\\n",
       "0           0 -0.351249 -0.602163 -0.38591 -0.080868 -0.458866 -0.276488   \n",
       "1           1  0.267557 -0.664901 -0.38591 -0.278347 -0.145311 -0.158102   \n",
       "2           2  0.797947 -0.156930 -0.38591  0.800734 -0.107372 -0.469982   \n",
       "3           3  0.002126 -0.965972 -0.38591 -0.420579 -0.639170  0.622512   \n",
       "4           4  0.112239 -0.830326 -0.38591 -0.756176 -0.142033  0.295054   \n",
       "\n",
       "       GGI6  SpMax1_Bhs    GATS4m  ...  minHssNH      SRW9    GATS3e  \\\n",
       "0 -0.083801    0.281555  0.689056  ... -0.175906 -1.504694 -0.519184   \n",
       "1 -0.239339   -0.329995  0.743703  ... -0.217294 -1.504694  0.056759   \n",
       "2 -0.780609   -0.364963  0.430726  ...  0.117806 -1.504694 -0.270485   \n",
       "3  0.296402    0.292371  0.435166  ... -0.415906  0.826836 -0.558183   \n",
       "4 -0.320218    0.023826  0.679495  ... -0.326422 -1.504694 -0.653413   \n",
       "\n",
       "      ASP-1  R_TpiPCTPC    GATS5c    AATS8m    GATS1c    GATS3s  CLASS  \n",
       "0  0.277805   -0.347614 -0.600570 -0.072174 -0.368918 -0.386182      0  \n",
       "1  0.726497   -0.348569 -0.141784 -0.167602  0.100444  0.161942      0  \n",
       "2  0.557216   -0.272658  1.581178 -0.353213  0.347286  0.110075      0  \n",
       "3 -0.110332   -0.595717 -0.127133 -0.337717 -0.505372 -0.342719      0  \n",
       "4  0.726497   -0.682845  0.226682 -0.563980 -0.463201 -0.715704      0  \n",
       "\n",
       "[5 rows x 32 columns]"
      ]
     },
     "execution_count": 3,
     "metadata": {},
     "output_type": "execute_result"
    }
   ],
   "source": [
    "dataset.head()"
   ]
  },
  {
   "cell_type": "code",
   "execution_count": 4,
   "metadata": {},
   "outputs": [
    {
     "name": "stdout",
     "output_type": "stream",
     "text": [
      "2548\n",
      "   Unnamed: 0     SwHBa    minHBd  MDEN-13     XLogP    MATS2s    GATS2s  \\\n",
      "0           0 -0.351249 -0.602163 -0.38591 -0.080868 -0.458866 -0.276488   \n",
      "1           1  0.267557 -0.664901 -0.38591 -0.278347 -0.145311 -0.158102   \n",
      "2           2  0.797947 -0.156930 -0.38591  0.800734 -0.107372 -0.469982   \n",
      "3           3  0.002126 -0.965972 -0.38591 -0.420579 -0.639170  0.622512   \n",
      "4           4  0.112239 -0.830326 -0.38591 -0.756176 -0.142033  0.295054   \n",
      "\n",
      "       GGI6  SpMax1_Bhs    GATS4m  ...  minHssNH      SRW9    GATS3e  \\\n",
      "0 -0.083801    0.281555  0.689056  ... -0.175906 -1.504694 -0.519184   \n",
      "1 -0.239339   -0.329995  0.743703  ... -0.217294 -1.504694  0.056759   \n",
      "2 -0.780609   -0.364963  0.430726  ...  0.117806 -1.504694 -0.270485   \n",
      "3  0.296402    0.292371  0.435166  ... -0.415906  0.826836 -0.558183   \n",
      "4 -0.320218    0.023826  0.679495  ... -0.326422 -1.504694 -0.653413   \n",
      "\n",
      "      ASP-1  R_TpiPCTPC    GATS5c    AATS8m    GATS1c    GATS3s  CLASS  \n",
      "0  0.277805   -0.347614 -0.600570 -0.072174 -0.368918 -0.386182      0  \n",
      "1  0.726497   -0.348569 -0.141784 -0.167602  0.100444  0.161942      0  \n",
      "2  0.557216   -0.272658  1.581178 -0.353213  0.347286  0.110075      0  \n",
      "3 -0.110332   -0.595717 -0.127133 -0.337717 -0.505372 -0.342719      0  \n",
      "4  0.726497   -0.682845  0.226682 -0.563980 -0.463201 -0.715704      0  \n",
      "\n",
      "[5 rows x 32 columns]\n"
     ]
    }
   ],
   "source": [
    "print( len(dataset) )\n",
    "print(dataset.head())"
   ]
  },
  {
   "cell_type": "code",
   "execution_count": 5,
   "metadata": {},
   "outputs": [
    {
     "name": "stdout",
     "output_type": "stream",
     "text": [
      "<class 'pandas.core.frame.DataFrame'>\n",
      "RangeIndex: 2548 entries, 0 to 2547\n",
      "Data columns (total 32 columns):\n",
      "Unnamed: 0     2548 non-null int64\n",
      "SwHBa          2548 non-null float64\n",
      "minHBd         2548 non-null float64\n",
      "MDEN-13        2548 non-null float64\n",
      "XLogP          2548 non-null float64\n",
      "MATS2s         2548 non-null float64\n",
      "GATS2s         2548 non-null float64\n",
      "GGI6           2548 non-null float64\n",
      "SpMax1_Bhs     2548 non-null float64\n",
      "GATS4m         2548 non-null float64\n",
      "SpMax3_Bhm     2548 non-null float64\n",
      "BCUTc-1h       2548 non-null float64\n",
      "GATS2v         2548 non-null float64\n",
      "nHBAcc2        2548 non-null float64\n",
      "SM1_Dzi        2548 non-null float64\n",
      "AATS7i         2548 non-null float64\n",
      "minHBa         2548 non-null float64\n",
      "CrippenLogP    2548 non-null float64\n",
      "hmax           2548 non-null float64\n",
      "maxaaN         2548 non-null float64\n",
      "AATS3i         2548 non-null float64\n",
      "MLFER_L        2548 non-null float64\n",
      "minHssNH       2548 non-null float64\n",
      "SRW9           2548 non-null float64\n",
      "GATS3e         2548 non-null float64\n",
      "ASP-1          2548 non-null float64\n",
      "R_TpiPCTPC     2548 non-null float64\n",
      "GATS5c         2548 non-null float64\n",
      "AATS8m         2548 non-null float64\n",
      "GATS1c         2548 non-null float64\n",
      "GATS3s         2548 non-null float64\n",
      "CLASS          2548 non-null int64\n",
      "dtypes: float64(30), int64(2)\n",
      "memory usage: 637.1 KB\n"
     ]
    }
   ],
   "source": [
    "dataset.info()"
   ]
  },
  {
   "cell_type": "code",
   "execution_count": 9,
   "metadata": {},
   "outputs": [],
   "source": [
    "x=dataset.iloc[:,0:31]\n",
    "y=dataset.iloc[:,31]\n",
    "x_train,x_test,y_train,y_test=train_test_split(x,y, random_state=42, test_size=0.2)# trian and test data spliting "
   ]
  },
  {
   "cell_type": "code",
   "execution_count": 10,
   "metadata": {},
   "outputs": [
    {
     "data": {
      "text/plain": [
       "2038"
      ]
     },
     "execution_count": 10,
     "metadata": {},
     "output_type": "execute_result"
    }
   ],
   "source": [
    "len(x_train)"
   ]
  },
  {
   "cell_type": "code",
   "execution_count": 11,
   "metadata": {},
   "outputs": [
    {
     "data": {
      "text/plain": [
       "510"
      ]
     },
     "execution_count": 11,
     "metadata": {},
     "output_type": "execute_result"
    }
   ],
   "source": [
    "len(x_test)"
   ]
  },
  {
   "cell_type": "code",
   "execution_count": 7,
   "metadata": {},
   "outputs": [],
   "source": [
    "sc_x=StandardScaler()# standerdized all values\n",
    "x_test=sc_x.fit_transform(x_test)\n",
    "x_train=sc_x.fit_transform(x_train)"
   ]
  },
  {
   "cell_type": "code",
   "execution_count": 8,
   "metadata": {},
   "outputs": [],
   "source": [
    "classifier=KNeighborsClassifier(n_neighbors=5, p=2,metric=\"euclidean\")#here putt k value =5, beacuse on this value accuracy and f1 score show maximum. by check graph "
   ]
  },
  {
   "cell_type": "code",
   "execution_count": 9,
   "metadata": {},
   "outputs": [],
   "source": [
    "# P is the class number so here just two classes exist 0,1. "
   ]
  },
  {
   "cell_type": "code",
   "execution_count": 10,
   "metadata": {},
   "outputs": [],
   "source": [
    "#  metric=\"euclidean\"??"
   ]
  },
  {
   "cell_type": "code",
   "execution_count": 11,
   "metadata": {},
   "outputs": [
    {
     "name": "stdout",
     "output_type": "stream",
     "text": [
      "5\n"
     ]
    }
   ],
   "source": [
    "k_values=[i for i in range(1,50,2)] # code for check the value of K\n",
    "k_acc_scores=[]\n",
    "for k in k_values:\n",
    "    knn = KNeighborsClassifier(n_neighbors=k,n_jobs=-1)\n",
    "    cv_scores = cross_val_score(knn,x_train,y_train, cv=5,scoring=\"accuracy\")\n",
    "    k_acc_scores.append(cv_scores.mean())\n",
    "    \n",
    "k_optimal=k_values[k_acc_scores.index(max(k_acc_scores))]\n",
    "print(k_optimal)\n",
    "                    "
   ]
  },
  {
   "cell_type": "code",
   "execution_count": 20,
   "metadata": {},
   "outputs": [
    {
     "data": {
      "image/png": "[encoded data removed]",
      "text/plain": [
       "<Figure size 432x288 with 1 Axes>"
      ]
     },
     "metadata": {
      "needs_background": "light"
     },
     "output_type": "display_data"
    }
   ],
   "source": [
    "plt.plot(k_values,k_acc_scores,color=\"green\",Linewidth=3)# graphical representation of k value\n",
    "plt.xlabel(\"k values\",color='blue',fontsize=15)\n",
    "plt.ylabel(\"Accuracy\",color='blue',fontsize=15)\n",
    "plt.title(\"Best K Value\",color=\"black\",fontsize=20)\n",
    "plt.show()\n",
    "#labels = (k_values)\n",
    "#width = 0.35 \n",
    "#fig, ax = plt.subplots()\n",
    "#ax.bar(labels,k_values, width, label='K_value')\n",
    "#ax.bar(labels, k_acc_scores, width,label='acc')\n",
    "#ax.set_ylabel('Acc')\n",
    "#ax.set_xlabel('k_value')\n",
    "#ax.set_title('BEST Value OF K')\n",
    "#ax.legend()\n",
    "\n",
    "#plt.show()\n",
    "\n",
    "#k_value = (k_values)\n",
    "#values = (k_acc_scores)\n",
    "\n",
    "#fig, axs = plt.subplots(1, 3, figsize=(9, 3), sharey=True)\n",
    "#axs[0].bar(k_values, values)\n",
    "#axs[1].scatter(k_values, values)\n",
    "#axs[2].plot(k_values, values)\n",
    "#fig.suptitle('Categorical Plotting')"
   ]
  },
  {
   "cell_type": "code",
   "execution_count": 13,
   "metadata": {},
   "outputs": [
    {
     "data": {
      "text/plain": [
       "KNeighborsClassifier(metric='euclidean')"
      ]
     },
     "execution_count": 13,
     "metadata": {},
     "output_type": "execute_result"
    }
   ],
   "source": [
    "classifier.fit(x_train,y_train)"
   ]
  },
  {
   "cell_type": "code",
   "execution_count": 14,
   "metadata": {},
   "outputs": [
    {
     "data": {
      "text/plain": [
       "22.58317958127243"
      ]
     },
     "execution_count": 14,
     "metadata": {},
     "output_type": "execute_result"
    }
   ],
   "source": [
    "import math\n",
    "math.sqrt(len(y_test))"
   ]
  },
  {
   "cell_type": "code",
   "execution_count": 15,
   "metadata": {},
   "outputs": [
    {
     "data": {
      "text/plain": [
       "array([0, 0, 0, 0, 0, 1, 0, 0, 1, 0, 0, 0, 1, 0, 0, 0, 0, 0, 0, 0, 0, 1,\n",
       "       0, 0, 0, 0, 0, 0, 0, 1, 0, 0, 0, 0, 0, 0, 0, 0, 1, 0, 0, 0, 0, 0,\n",
       "       0, 1, 0, 0, 0, 1, 0, 0, 0, 0, 0, 0, 0, 0, 0, 0, 1, 0, 1, 0, 0, 0,\n",
       "       0, 0, 0, 0, 0, 0, 0, 0, 0, 0, 0, 0, 0, 0, 0, 0, 0, 0, 0, 0, 0, 0,\n",
       "       0, 0, 1, 0, 0, 0, 0, 0, 0, 0, 0, 0, 0, 0, 0, 0, 0, 1, 0, 0, 0, 0,\n",
       "       1, 0, 0, 0, 0, 0, 0, 0, 0, 0, 0, 0, 0, 0, 0, 0, 0, 1, 0, 0, 0, 0,\n",
       "       0, 0, 1, 0, 0, 0, 0, 0, 0, 0, 0, 0, 0, 0, 0, 0, 1, 0, 0, 0, 0, 0,\n",
       "       0, 0, 0, 0, 0, 0, 1, 0, 0, 0, 0, 0, 0, 0, 0, 0, 0, 0, 0, 0, 0, 0,\n",
       "       0, 0, 0, 0, 0, 1, 0, 0, 0, 0, 0, 0, 0, 0, 0, 0, 0, 0, 0, 0, 0, 0,\n",
       "       0, 0, 0, 0, 0, 0, 0, 1, 1, 0, 0, 0, 1, 0, 0, 0, 0, 0, 0, 0, 0, 0,\n",
       "       0, 0, 0, 0, 0, 0, 0, 0, 0, 0, 0, 1, 0, 0, 0, 0, 0, 1, 0, 0, 0, 0,\n",
       "       0, 0, 0, 0, 0, 0, 0, 0, 0, 0, 0, 0, 0, 0, 0, 0, 0, 1, 1, 0, 0, 0,\n",
       "       0, 0, 0, 0, 0, 1, 0, 0, 0, 0, 0, 1, 1, 0, 0, 0, 1, 0, 0, 0, 0, 1,\n",
       "       0, 0, 0, 0, 1, 0, 1, 0, 0, 0, 0, 1, 0, 1, 0, 0, 0, 0, 0, 0, 0, 0,\n",
       "       0, 0, 0, 0, 0, 0, 0, 0, 0, 0, 0, 0, 0, 0, 0, 0, 1, 0, 1, 0, 0, 0,\n",
       "       0, 0, 0, 0, 0, 0, 0, 1, 0, 0, 0, 0, 0, 0, 0, 0, 1, 0, 0, 1, 0, 0,\n",
       "       0, 0, 0, 0, 0, 0, 0, 1, 0, 0, 0, 0, 0, 0, 0, 0, 0, 0, 0, 0, 1, 0,\n",
       "       0, 0, 0, 0, 0, 0, 0, 0, 0, 0, 0, 0, 0, 0, 0, 0, 0, 0, 0, 0, 0, 0,\n",
       "       0, 0, 0, 0, 0, 0, 0, 0, 0, 0, 0, 0, 0, 0, 0, 0, 0, 0, 0, 1, 0, 0,\n",
       "       0, 0, 0, 0, 0, 1, 0, 0, 0, 0, 1, 0, 0, 0, 0, 0, 0, 1, 0, 0, 0, 0,\n",
       "       0, 0, 0, 0, 0, 0, 0, 0, 0, 0, 1, 0, 0, 0, 0, 0, 0, 0, 0, 0, 0, 0,\n",
       "       0, 0, 0, 0, 0, 1, 0, 0, 0, 0, 0, 0, 0, 0, 0, 0, 0, 0, 0, 0, 0, 0,\n",
       "       0, 0, 0, 0, 0, 0, 0, 0, 1, 0, 0, 0, 0, 0, 0, 0, 1, 0, 0, 1, 0, 0,\n",
       "       0, 0, 0, 0], dtype=int64)"
      ]
     },
     "execution_count": 15,
     "metadata": {},
     "output_type": "execute_result"
    }
   ],
   "source": [
    "y_pred=classifier.predict(x_test)\n",
    "y_pred"
   ]
  },
  {
   "cell_type": "code",
   "execution_count": 16,
   "metadata": {},
   "outputs": [
    {
     "name": "stdout",
     "output_type": "stream",
     "text": [
      "[[431  15]\n",
      " [ 29  35]]\n"
     ]
    }
   ],
   "source": [
    "cm=confusion_matrix(y_test,y_pred)# confusion matrix..\n",
    "print(cm)"
   ]
  },
  {
   "cell_type": "code",
   "execution_count": 17,
   "metadata": {},
   "outputs": [
    {
     "name": "stdout",
     "output_type": "stream",
     "text": [
      "0.6140350877192983\n"
     ]
    }
   ],
   "source": [
    "print(f1_score(y_test,y_pred))"
   ]
  },
  {
   "cell_type": "code",
   "execution_count": 18,
   "metadata": {},
   "outputs": [
    {
     "name": "stdout",
     "output_type": "stream",
     "text": [
      "0.9137254901960784\n"
     ]
    }
   ],
   "source": [
    "print(accuracy_score(y_test,y_pred))"
   ]
  },
  {
   "cell_type": "code",
   "execution_count": 19,
   "metadata": {},
   "outputs": [
    {
     "data": {
      "text/plain": [
       "Unnamed: 0     0\n",
       "SwHBa          0\n",
       "minHBd         0\n",
       "MDEN-13        0\n",
       "XLogP          0\n",
       "MATS2s         0\n",
       "GATS2s         0\n",
       "GGI6           0\n",
       "SpMax1_Bhs     0\n",
       "GATS4m         0\n",
       "SpMax3_Bhm     0\n",
       "BCUTc-1h       0\n",
       "GATS2v         0\n",
       "nHBAcc2        0\n",
       "SM1_Dzi        0\n",
       "AATS7i         0\n",
       "minHBa         0\n",
       "CrippenLogP    0\n",
       "hmax           0\n",
       "maxaaN         0\n",
       "AATS3i         0\n",
       "MLFER_L        0\n",
       "minHssNH       0\n",
       "SRW9           0\n",
       "GATS3e         0\n",
       "ASP-1          0\n",
       "R_TpiPCTPC     0\n",
       "GATS5c         0\n",
       "AATS8m         0\n",
       "GATS1c         0\n",
       "GATS3s         0\n",
       "CLASS          0\n",
       "dtype: int64"
      ]
     },
     "execution_count": 19,
     "metadata": {},
     "output_type": "execute_result"
    }
   ],
   "source": [
    "dataset.isnull().sum()"
   ]
  },
  {
   "cell_type": "code",
   "execution_count": null,
   "metadata": {},
   "outputs": [],
   "source": []
  }
 ],
 "metadata": {
  "kernelspec": {
   "display_name": "Python 3",
   "language": "python",
   "name": "python3"
  },
  "language_info": {
   "codemirror_mode": {
    "name": "ipython",
    "version": 3
   },
   "file_extension": ".py",
   "mimetype": "text/x-python",
   "name": "python",
   "nbconvert_exporter": "python",
   "pygments_lexer": "ipython3",
   "version": "3.7.3"
  }
 },
 "nbformat": 4,
 "nbformat_minor": 2
}
